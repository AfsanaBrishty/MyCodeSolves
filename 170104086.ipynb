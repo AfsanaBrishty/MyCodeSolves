{
  "nbformat": 4,
  "nbformat_minor": 0,
  "metadata": {
    "colab": {
      "name": "170104086.ipynb",
      "provenance": [],
      "collapsed_sections": [],
      "authorship_tag": "ABX9TyOhwQ47hYObP+l/4Xxn+rq4",
      "include_colab_link": true
    },
    "kernelspec": {
      "name": "python3",
      "display_name": "Python 3"
    },
    "language_info": {
      "name": "python"
    }
  },
  "cells": [
    {
      "cell_type": "markdown",
      "metadata": {
        "id": "view-in-github",
        "colab_type": "text"
      },
      "source": [
        "<a href=\"https://colab.research.google.com/github/AfsanaBrishty/MyCodeSolves/blob/master/170104086.ipynb\" target=\"_parent\"><img src=\"https://colab.research.google.com/assets/colab-badge.svg\" alt=\"Open In Colab\"/></a>"
      ]
    },
    {
      "cell_type": "code",
      "metadata": {
        "id": "nsSLjGbV7cbF"
      },
      "source": [
        "import numpy as np\n",
        "import pandas as pd\n",
        "import seaborn as sns\n",
        "import tensorflow as tf\n",
        "import matplotlib.pyplot as plt\n",
        "\n",
        "from keras.preprocessing.text import Tokenizer\n",
        "from keras.preprocessing.sequence import pad_sequences\n",
        "from keras.models import Sequential\n",
        "from keras import layers\n",
        "from keras import backend as K\n",
        "from keras.utils.vis_utils import plot_model\n",
        "\n",
        "from sklearn.metrics import accuracy_score\n",
        "from sklearn.metrics import precision_score\n",
        "from sklearn.metrics import recall_score\n",
        "from sklearn.metrics import f1_score\n",
        "from sklearn.metrics import confusion_matrix"
      ],
      "execution_count": 1,
      "outputs": []
    },
    {
      "cell_type": "code",
      "metadata": {
        "colab": {
          "base_uri": "https://localhost:8080/"
        },
        "id": "LdII4gUF7eG5",
        "outputId": "9e9b69a2-ecba-455f-94e4-98f93bb287cf"
      },
      "source": [
        "from google.colab import drive\n",
        "drive.mount(\"/content/drive\")"
      ],
      "execution_count": 2,
      "outputs": [
        {
          "output_type": "stream",
          "name": "stdout",
          "text": [
            "Drive already mounted at /content/drive; to attempt to forcibly remount, call drive.mount(\"/content/drive\", force_remount=True).\n"
          ]
        }
      ]
    },
    {
      "cell_type": "code",
      "metadata": {
        "colab": {
          "base_uri": "https://localhost:8080/",
          "height": 419
        },
        "id": "nRMFDOP762O5",
        "outputId": "cdb27ce7-2b8f-431a-bc4b-f381ec86cb32"
      },
      "source": [
        "df = pd.read_csv(\"/content/drive/MyDrive/Soft Comp Assignment3/Dataset 3.csv\",encoding='latin1')\n",
        "df"
      ],
      "execution_count": 3,
      "outputs": [
        {
          "output_type": "execute_result",
          "data": {
            "text/html": [
              "<div>\n",
              "<style scoped>\n",
              "    .dataframe tbody tr th:only-of-type {\n",
              "        vertical-align: middle;\n",
              "    }\n",
              "\n",
              "    .dataframe tbody tr th {\n",
              "        vertical-align: top;\n",
              "    }\n",
              "\n",
              "    .dataframe thead th {\n",
              "        text-align: right;\n",
              "    }\n",
              "</style>\n",
              "<table border=\"1\" class=\"dataframe\">\n",
              "  <thead>\n",
              "    <tr style=\"text-align: right;\">\n",
              "      <th></th>\n",
              "      <th>tweets</th>\n",
              "      <th>sentiment</th>\n",
              "    </tr>\n",
              "  </thead>\n",
              "  <tbody>\n",
              "    <tr>\n",
              "      <th>0</th>\n",
              "      <td>just had a real good moment. i missssssssss hi...</td>\n",
              "      <td>0</td>\n",
              "    </tr>\n",
              "    <tr>\n",
              "      <th>1</th>\n",
              "      <td>is reading manga  http://plurk.com/p/mzp1e</td>\n",
              "      <td>0</td>\n",
              "    </tr>\n",
              "    <tr>\n",
              "      <th>2</th>\n",
              "      <td>@comeagainjen http://twitpic.com/2y2lx - http:...</td>\n",
              "      <td>0</td>\n",
              "    </tr>\n",
              "    <tr>\n",
              "      <th>3</th>\n",
              "      <td>@lapcat Need to send 'em to my accountant tomo...</td>\n",
              "      <td>0</td>\n",
              "    </tr>\n",
              "    <tr>\n",
              "      <th>4</th>\n",
              "      <td>ADD ME ON MYSPACE!!!  myspace.com/LookThunder</td>\n",
              "      <td>0</td>\n",
              "    </tr>\n",
              "    <tr>\n",
              "      <th>...</th>\n",
              "      <td>...</td>\n",
              "      <td>...</td>\n",
              "    </tr>\n",
              "    <tr>\n",
              "      <th>10309</th>\n",
              "      <td>No Depression by G Herbo is my mood from now o...</td>\n",
              "      <td>1</td>\n",
              "    </tr>\n",
              "    <tr>\n",
              "      <th>10310</th>\n",
              "      <td>What do you do when depression succumbs the br...</td>\n",
              "      <td>1</td>\n",
              "    </tr>\n",
              "    <tr>\n",
              "      <th>10311</th>\n",
              "      <td>Ketamine Nasal Spray Shows Promise Against Dep...</td>\n",
              "      <td>1</td>\n",
              "    </tr>\n",
              "    <tr>\n",
              "      <th>10312</th>\n",
              "      <td>dont mistake a bad day with depression! everyo...</td>\n",
              "      <td>1</td>\n",
              "    </tr>\n",
              "    <tr>\n",
              "      <th>10313</th>\n",
              "      <td>0</td>\n",
              "      <td>1</td>\n",
              "    </tr>\n",
              "  </tbody>\n",
              "</table>\n",
              "<p>10314 rows × 2 columns</p>\n",
              "</div>"
            ],
            "text/plain": [
              "                                                  tweets  sentiment\n",
              "0      just had a real good moment. i missssssssss hi...          0\n",
              "1             is reading manga  http://plurk.com/p/mzp1e          0\n",
              "2      @comeagainjen http://twitpic.com/2y2lx - http:...          0\n",
              "3      @lapcat Need to send 'em to my accountant tomo...          0\n",
              "4          ADD ME ON MYSPACE!!!  myspace.com/LookThunder          0\n",
              "...                                                  ...        ...\n",
              "10309  No Depression by G Herbo is my mood from now o...          1\n",
              "10310  What do you do when depression succumbs the br...          1\n",
              "10311  Ketamine Nasal Spray Shows Promise Against Dep...          1\n",
              "10312  dont mistake a bad day with depression! everyo...          1\n",
              "10313                                                  0          1\n",
              "\n",
              "[10314 rows x 2 columns]"
            ]
          },
          "metadata": {},
          "execution_count": 3
        }
      ]
    },
    {
      "cell_type": "code",
      "metadata": {
        "colab": {
          "base_uri": "https://localhost:8080/"
        },
        "id": "wWg52gcRJI3v",
        "outputId": "1691d74a-1f02-4360-e828-1d4abc738372"
      },
      "source": [
        "df.shape"
      ],
      "execution_count": 4,
      "outputs": [
        {
          "output_type": "execute_result",
          "data": {
            "text/plain": [
              "(10314, 2)"
            ]
          },
          "metadata": {},
          "execution_count": 4
        }
      ]
    },
    {
      "cell_type": "code",
      "metadata": {
        "colab": {
          "base_uri": "https://localhost:8080/",
          "height": 470
        },
        "id": "Hmk_9Nw-62KV",
        "outputId": "7f56147c-2855-4f38-9c33-14fdbdb4d051"
      },
      "source": [
        "df = df.sample(frac = 1., random_state = 14).reset_index(drop = True)\n",
        "\n",
        "print(df['sentiment'].value_counts(0))\n",
        "df"
      ],
      "execution_count": 5,
      "outputs": [
        {
          "output_type": "stream",
          "name": "stdout",
          "text": [
            "0    8000\n",
            "1    2314\n",
            "Name: sentiment, dtype: int64\n"
          ]
        },
        {
          "output_type": "execute_result",
          "data": {
            "text/html": [
              "<div>\n",
              "<style scoped>\n",
              "    .dataframe tbody tr th:only-of-type {\n",
              "        vertical-align: middle;\n",
              "    }\n",
              "\n",
              "    .dataframe tbody tr th {\n",
              "        vertical-align: top;\n",
              "    }\n",
              "\n",
              "    .dataframe thead th {\n",
              "        text-align: right;\n",
              "    }\n",
              "</style>\n",
              "<table border=\"1\" class=\"dataframe\">\n",
              "  <thead>\n",
              "    <tr style=\"text-align: right;\">\n",
              "      <th></th>\n",
              "      <th>tweets</th>\n",
              "      <th>sentiment</th>\n",
              "    </tr>\n",
              "  </thead>\n",
              "  <tbody>\n",
              "    <tr>\n",
              "      <th>0</th>\n",
              "      <td>@1WineDude That's a really cool giveaway!</td>\n",
              "      <td>0</td>\n",
              "    </tr>\n",
              "    <tr>\n",
              "      <th>1</th>\n",
              "      <td>Need a good web series? Check out GIANTS on Yo...</td>\n",
              "      <td>1</td>\n",
              "    </tr>\n",
              "    <tr>\n",
              "      <th>2</th>\n",
              "      <td>Procastinated by doing up a new playlist for T...</td>\n",
              "      <td>0</td>\n",
              "    </tr>\n",
              "    <tr>\n",
              "      <th>3</th>\n",
              "      <td>@ZeenaBoBeena eeeek!!!! Good luck, Zeena!!! Yo...</td>\n",
              "      <td>0</td>\n",
              "    </tr>\n",
              "    <tr>\n",
              "      <th>4</th>\n",
              "      <td>@ChynaDoll74 Good morning to you too</td>\n",
              "      <td>0</td>\n",
              "    </tr>\n",
              "    <tr>\n",
              "      <th>...</th>\n",
              "      <td>...</td>\n",
              "      <td>...</td>\n",
              "    </tr>\n",
              "    <tr>\n",
              "      <th>10309</th>\n",
              "      <td>Summer session starts today  Why am I smiling.</td>\n",
              "      <td>0</td>\n",
              "    </tr>\n",
              "    <tr>\n",
              "      <th>10310</th>\n",
              "      <td>@Desireeeeee really me to.!</td>\n",
              "      <td>0</td>\n",
              "    </tr>\n",
              "    <tr>\n",
              "      <th>10311</th>\n",
              "      <td>@Jason_Pollock I think they heard you.</td>\n",
              "      <td>0</td>\n",
              "    </tr>\n",
              "    <tr>\n",
              "      <th>10312</th>\n",
              "      <td>@OliviaMaynard13 You're most welcome. I don't ...</td>\n",
              "      <td>1</td>\n",
              "    </tr>\n",
              "    <tr>\n",
              "      <th>10313</th>\n",
              "      <td>Lakers is the best team of the west conference</td>\n",
              "      <td>0</td>\n",
              "    </tr>\n",
              "  </tbody>\n",
              "</table>\n",
              "<p>10314 rows × 2 columns</p>\n",
              "</div>"
            ],
            "text/plain": [
              "                                                  tweets  sentiment\n",
              "0             @1WineDude That's a really cool giveaway!           0\n",
              "1      Need a good web series? Check out GIANTS on Yo...          1\n",
              "2      Procastinated by doing up a new playlist for T...          0\n",
              "3      @ZeenaBoBeena eeeek!!!! Good luck, Zeena!!! Yo...          0\n",
              "4                  @ChynaDoll74 Good morning to you too           0\n",
              "...                                                  ...        ...\n",
              "10309     Summer session starts today  Why am I smiling.          0\n",
              "10310                       @Desireeeeee really me to.!           0\n",
              "10311            @Jason_Pollock I think they heard you.           0\n",
              "10312  @OliviaMaynard13 You're most welcome. I don't ...          1\n",
              "10313    Lakers is the best team of the west conference           0\n",
              "\n",
              "[10314 rows x 2 columns]"
            ]
          },
          "metadata": {},
          "execution_count": 5
        }
      ]
    },
    {
      "cell_type": "markdown",
      "metadata": {
        "id": "1Rtk4bxZ87V6"
      },
      "source": [
        "## **Test Train Data Divide**"
      ]
    },
    {
      "cell_type": "code",
      "metadata": {
        "id": "a3XTuCgp62DC"
      },
      "source": [
        "EPOCH = 10\n",
        "split_val = int(0.2 * df.shape[0])\n",
        "\n",
        "Test_data = df.iloc[-split_val :]\n",
        "Val_data = df.iloc[- 2 * split_val : -split_val]\n",
        "Train_data = df.iloc[: - 2 * split_val]"
      ],
      "execution_count": 6,
      "outputs": []
    },
    {
      "cell_type": "code",
      "metadata": {
        "colab": {
          "base_uri": "https://localhost:8080/",
          "height": 470
        },
        "id": "7uX12zoi9dAp",
        "outputId": "4510582b-a1fa-433b-83c2-aa953587acc0"
      },
      "source": [
        "print(Train_data['sentiment'].value_counts())\n",
        "Train_data"
      ],
      "execution_count": 7,
      "outputs": [
        {
          "output_type": "stream",
          "name": "stdout",
          "text": [
            "0    4784\n",
            "1    1406\n",
            "Name: sentiment, dtype: int64\n"
          ]
        },
        {
          "output_type": "execute_result",
          "data": {
            "text/html": [
              "<div>\n",
              "<style scoped>\n",
              "    .dataframe tbody tr th:only-of-type {\n",
              "        vertical-align: middle;\n",
              "    }\n",
              "\n",
              "    .dataframe tbody tr th {\n",
              "        vertical-align: top;\n",
              "    }\n",
              "\n",
              "    .dataframe thead th {\n",
              "        text-align: right;\n",
              "    }\n",
              "</style>\n",
              "<table border=\"1\" class=\"dataframe\">\n",
              "  <thead>\n",
              "    <tr style=\"text-align: right;\">\n",
              "      <th></th>\n",
              "      <th>tweets</th>\n",
              "      <th>sentiment</th>\n",
              "    </tr>\n",
              "  </thead>\n",
              "  <tbody>\n",
              "    <tr>\n",
              "      <th>0</th>\n",
              "      <td>@1WineDude That's a really cool giveaway!</td>\n",
              "      <td>0</td>\n",
              "    </tr>\n",
              "    <tr>\n",
              "      <th>1</th>\n",
              "      <td>Need a good web series? Check out GIANTS on Yo...</td>\n",
              "      <td>1</td>\n",
              "    </tr>\n",
              "    <tr>\n",
              "      <th>2</th>\n",
              "      <td>Procastinated by doing up a new playlist for T...</td>\n",
              "      <td>0</td>\n",
              "    </tr>\n",
              "    <tr>\n",
              "      <th>3</th>\n",
              "      <td>@ZeenaBoBeena eeeek!!!! Good luck, Zeena!!! Yo...</td>\n",
              "      <td>0</td>\n",
              "    </tr>\n",
              "    <tr>\n",
              "      <th>4</th>\n",
              "      <td>@ChynaDoll74 Good morning to you too</td>\n",
              "      <td>0</td>\n",
              "    </tr>\n",
              "    <tr>\n",
              "      <th>...</th>\n",
              "      <td>...</td>\n",
              "      <td>...</td>\n",
              "    </tr>\n",
              "    <tr>\n",
              "      <th>6185</th>\n",
              "      <td>free draw, lit easily, puffing away</td>\n",
              "      <td>0</td>\n",
              "    </tr>\n",
              "    <tr>\n",
              "      <th>6186</th>\n",
              "      <td>Depression is coming i feel it my veins just w...</td>\n",
              "      <td>1</td>\n",
              "    </tr>\n",
              "    <tr>\n",
              "      <th>6187</th>\n",
              "      <td>at gator joe's with heather and then movies to...</td>\n",
              "      <td>0</td>\n",
              "    </tr>\n",
              "    <tr>\n",
              "      <th>6188</th>\n",
              "      <td>Ughhh so over nightmares - So Instead of sleep...</td>\n",
              "      <td>0</td>\n",
              "    </tr>\n",
              "    <tr>\n",
              "      <th>6189</th>\n",
              "      <td>@pinkelephantpun Books on tape or cd makes the...</td>\n",
              "      <td>0</td>\n",
              "    </tr>\n",
              "  </tbody>\n",
              "</table>\n",
              "<p>6190 rows × 2 columns</p>\n",
              "</div>"
            ],
            "text/plain": [
              "                                                 tweets  sentiment\n",
              "0            @1WineDude That's a really cool giveaway!           0\n",
              "1     Need a good web series? Check out GIANTS on Yo...          1\n",
              "2     Procastinated by doing up a new playlist for T...          0\n",
              "3     @ZeenaBoBeena eeeek!!!! Good luck, Zeena!!! Yo...          0\n",
              "4                 @ChynaDoll74 Good morning to you too           0\n",
              "...                                                 ...        ...\n",
              "6185               free draw, lit easily, puffing away           0\n",
              "6186  Depression is coming i feel it my veins just w...          1\n",
              "6187  at gator joe's with heather and then movies to...          0\n",
              "6188  Ughhh so over nightmares - So Instead of sleep...          0\n",
              "6189  @pinkelephantpun Books on tape or cd makes the...          0\n",
              "\n",
              "[6190 rows x 2 columns]"
            ]
          },
          "metadata": {},
          "execution_count": 7
        }
      ]
    },
    {
      "cell_type": "code",
      "metadata": {
        "colab": {
          "base_uri": "https://localhost:8080/",
          "height": 470
        },
        "id": "4AdUnnCu9c70",
        "outputId": "c74e158b-65a9-41a2-8d7c-64d1ccf46812"
      },
      "source": [
        "print(Val_data['sentiment'].value_counts())\n",
        "Val_data"
      ],
      "execution_count": 8,
      "outputs": [
        {
          "output_type": "stream",
          "name": "stdout",
          "text": [
            "0    1606\n",
            "1     456\n",
            "Name: sentiment, dtype: int64\n"
          ]
        },
        {
          "output_type": "execute_result",
          "data": {
            "text/html": [
              "<div>\n",
              "<style scoped>\n",
              "    .dataframe tbody tr th:only-of-type {\n",
              "        vertical-align: middle;\n",
              "    }\n",
              "\n",
              "    .dataframe tbody tr th {\n",
              "        vertical-align: top;\n",
              "    }\n",
              "\n",
              "    .dataframe thead th {\n",
              "        text-align: right;\n",
              "    }\n",
              "</style>\n",
              "<table border=\"1\" class=\"dataframe\">\n",
              "  <thead>\n",
              "    <tr style=\"text-align: right;\">\n",
              "      <th></th>\n",
              "      <th>tweets</th>\n",
              "      <th>sentiment</th>\n",
              "    </tr>\n",
              "  </thead>\n",
              "  <tbody>\n",
              "    <tr>\n",
              "      <th>6190</th>\n",
              "      <td>@pilucha ok, no more drinking away of the sorr...</td>\n",
              "      <td>0</td>\n",
              "    </tr>\n",
              "    <tr>\n",
              "      <th>6191</th>\n",
              "      <td>Earl's wearing a tie</td>\n",
              "      <td>0</td>\n",
              "    </tr>\n",
              "    <tr>\n",
              "      <th>6192</th>\n",
              "      <td>Loving @gilesbennet teaching style - like Dr S...</td>\n",
              "      <td>0</td>\n",
              "    </tr>\n",
              "    <tr>\n",
              "      <th>6193</th>\n",
              "      <td>hangin with ledd nd court.</td>\n",
              "      <td>0</td>\n",
              "    </tr>\n",
              "    <tr>\n",
              "      <th>6194</th>\n",
              "      <td>under 24 hours left to vote for @protagonize a...</td>\n",
              "      <td>0</td>\n",
              "    </tr>\n",
              "    <tr>\n",
              "      <th>...</th>\n",
              "      <td>...</td>\n",
              "      <td>...</td>\n",
              "    </tr>\n",
              "    <tr>\n",
              "      <th>8247</th>\n",
              "      <td>Look at the cute hat I got today...I look scar...</td>\n",
              "      <td>0</td>\n",
              "    </tr>\n",
              "    <tr>\n",
              "      <th>8248</th>\n",
              "      <td>@firesty hey ya )) like ur new pic  i have one...</td>\n",
              "      <td>0</td>\n",
              "    </tr>\n",
              "    <tr>\n",
              "      <th>8249</th>\n",
              "      <td>@Styla73 Thank you.</td>\n",
              "      <td>0</td>\n",
              "    </tr>\n",
              "    <tr>\n",
              "      <th>8250</th>\n",
              "      <td>@stephjonesmusic http://twitpic.com/6bclz - ah...</td>\n",
              "      <td>0</td>\n",
              "    </tr>\n",
              "    <tr>\n",
              "      <th>8251</th>\n",
              "      <td>RT @FamAcupuncture: Treating Depression With F...</td>\n",
              "      <td>1</td>\n",
              "    </tr>\n",
              "  </tbody>\n",
              "</table>\n",
              "<p>2062 rows × 2 columns</p>\n",
              "</div>"
            ],
            "text/plain": [
              "                                                 tweets  sentiment\n",
              "6190  @pilucha ok, no more drinking away of the sorr...          0\n",
              "6191                              Earl's wearing a tie           0\n",
              "6192  Loving @gilesbennet teaching style - like Dr S...          0\n",
              "6193                        hangin with ledd nd court.           0\n",
              "6194  under 24 hours left to vote for @protagonize a...          0\n",
              "...                                                 ...        ...\n",
              "8247  Look at the cute hat I got today...I look scar...          0\n",
              "8248  @firesty hey ya )) like ur new pic  i have one...          0\n",
              "8249                               @Styla73 Thank you.           0\n",
              "8250  @stephjonesmusic http://twitpic.com/6bclz - ah...          0\n",
              "8251  RT @FamAcupuncture: Treating Depression With F...          1\n",
              "\n",
              "[2062 rows x 2 columns]"
            ]
          },
          "metadata": {},
          "execution_count": 8
        }
      ]
    },
    {
      "cell_type": "code",
      "metadata": {
        "colab": {
          "base_uri": "https://localhost:8080/",
          "height": 470
        },
        "id": "3jB-2dCV9c4T",
        "outputId": "020d9518-05e7-423a-e652-b80124179c36"
      },
      "source": [
        "print(Test_data['sentiment'].value_counts())\n",
        "Test_data"
      ],
      "execution_count": 9,
      "outputs": [
        {
          "output_type": "stream",
          "name": "stdout",
          "text": [
            "0    1610\n",
            "1     452\n",
            "Name: sentiment, dtype: int64\n"
          ]
        },
        {
          "output_type": "execute_result",
          "data": {
            "text/html": [
              "<div>\n",
              "<style scoped>\n",
              "    .dataframe tbody tr th:only-of-type {\n",
              "        vertical-align: middle;\n",
              "    }\n",
              "\n",
              "    .dataframe tbody tr th {\n",
              "        vertical-align: top;\n",
              "    }\n",
              "\n",
              "    .dataframe thead th {\n",
              "        text-align: right;\n",
              "    }\n",
              "</style>\n",
              "<table border=\"1\" class=\"dataframe\">\n",
              "  <thead>\n",
              "    <tr style=\"text-align: right;\">\n",
              "      <th></th>\n",
              "      <th>tweets</th>\n",
              "      <th>sentiment</th>\n",
              "    </tr>\n",
              "  </thead>\n",
              "  <tbody>\n",
              "    <tr>\n",
              "      <th>8252</th>\n",
              "      <td>One of my mini poems. #helenswriting#mentalhea...</td>\n",
              "      <td>1</td>\n",
              "    </tr>\n",
              "    <tr>\n",
              "      <th>8253</th>\n",
              "      <td>@y2kprawn you went to college here? Didn't kno...</td>\n",
              "      <td>0</td>\n",
              "    </tr>\n",
              "    <tr>\n",
              "      <th>8254</th>\n",
              "      <td>The Young Life Podcast #1 - Depression 101:  h...</td>\n",
              "      <td>1</td>\n",
              "    </tr>\n",
              "    <tr>\n",
              "      <th>8255</th>\n",
              "      <td>'s hair is so soft today.</td>\n",
              "      <td>0</td>\n",
              "    </tr>\n",
              "    <tr>\n",
              "      <th>8256</th>\n",
              "      <td>At the point where I'm legitimately pissed whe...</td>\n",
              "      <td>1</td>\n",
              "    </tr>\n",
              "    <tr>\n",
              "      <th>...</th>\n",
              "      <td>...</td>\n",
              "      <td>...</td>\n",
              "    </tr>\n",
              "    <tr>\n",
              "      <th>10309</th>\n",
              "      <td>Summer session starts today  Why am I smiling.</td>\n",
              "      <td>0</td>\n",
              "    </tr>\n",
              "    <tr>\n",
              "      <th>10310</th>\n",
              "      <td>@Desireeeeee really me to.!</td>\n",
              "      <td>0</td>\n",
              "    </tr>\n",
              "    <tr>\n",
              "      <th>10311</th>\n",
              "      <td>@Jason_Pollock I think they heard you.</td>\n",
              "      <td>0</td>\n",
              "    </tr>\n",
              "    <tr>\n",
              "      <th>10312</th>\n",
              "      <td>@OliviaMaynard13 You're most welcome. I don't ...</td>\n",
              "      <td>1</td>\n",
              "    </tr>\n",
              "    <tr>\n",
              "      <th>10313</th>\n",
              "      <td>Lakers is the best team of the west conference</td>\n",
              "      <td>0</td>\n",
              "    </tr>\n",
              "  </tbody>\n",
              "</table>\n",
              "<p>2062 rows × 2 columns</p>\n",
              "</div>"
            ],
            "text/plain": [
              "                                                  tweets  sentiment\n",
              "8252   One of my mini poems. #helenswriting#mentalhea...          1\n",
              "8253   @y2kprawn you went to college here? Didn't kno...          0\n",
              "8254   The Young Life Podcast #1 - Depression 101:  h...          1\n",
              "8255                          's hair is so soft today.           0\n",
              "8256   At the point where I'm legitimately pissed whe...          1\n",
              "...                                                  ...        ...\n",
              "10309     Summer session starts today  Why am I smiling.          0\n",
              "10310                       @Desireeeeee really me to.!           0\n",
              "10311            @Jason_Pollock I think they heard you.           0\n",
              "10312  @OliviaMaynard13 You're most welcome. I don't ...          1\n",
              "10313    Lakers is the best team of the west conference           0\n",
              "\n",
              "[2062 rows x 2 columns]"
            ]
          },
          "metadata": {},
          "execution_count": 9
        }
      ]
    },
    {
      "cell_type": "code",
      "metadata": {
        "id": "L59j04jv9czy"
      },
      "source": [
        "Train_X = np.array(Train_data.iloc[:, 0])\n",
        "Train_Y = np.array(Train_data.iloc[:, 1])\n",
        "\n",
        "Validation_X = np.array(Val_data.iloc[:, 0])\n",
        "Validation_Y = np.array(Val_data.iloc[:, 1])\n",
        "\n",
        "Test_X = np.array(Test_data.iloc[:, 0])\n",
        "Test_Y = np.array(Test_data.iloc[:, 1])"
      ],
      "execution_count": 10,
      "outputs": []
    },
    {
      "cell_type": "markdown",
      "metadata": {
        "id": "VjFdkZEj-n1q"
      },
      "source": [
        "# **Data Tokenization**"
      ]
    },
    {
      "cell_type": "code",
      "metadata": {
        "id": "p3djeNQr618Z"
      },
      "source": [
        "top_k = 55000\n",
        "tokenizer = tf.keras.preprocessing.text.Tokenizer(num_words = top_k,\n",
        "                                                  oov_token = \"<unk>\",\n",
        "                                                  filters = '!\"#$%&()*+.,-/:;=?@[\\]^_`{|}~')\n",
        "tokenizer.fit_on_texts(Train_X)\n",
        "\n",
        "tokenizer.word_index['<pad>'] = 0\n",
        "tokenizer.index_word[0] = '<pad>'\n",
        "\n",
        "Train_seq = tokenizer.texts_to_sequences(Train_X)\n",
        "Val_seq = tokenizer.texts_to_sequences(Validation_X)\n",
        "Test_seq = tokenizer.texts_to_sequences(Test_X)\n",
        "\n",
        "Train_seq = tf.keras.preprocessing.sequence.pad_sequences(Train_seq, padding = 'pre')\n",
        "Val_seq = tf.keras.preprocessing.sequence.pad_sequences(Val_seq, padding = 'pre')\n",
        "Test_seq = tf.keras.preprocessing.sequence.pad_sequences(Test_seq, padding = 'pre')"
      ],
      "execution_count": 11,
      "outputs": []
    },
    {
      "cell_type": "markdown",
      "metadata": {
        "id": "CeZYU7NS_xcA"
      },
      "source": [
        "# **Model Development**"
      ]
    },
    {
      "cell_type": "code",
      "metadata": {
        "colab": {
          "base_uri": "https://localhost:8080/"
        },
        "id": "_N8tUNX8612M",
        "outputId": "beebe846-77fe-4eca-ae17-34f3e8164033"
      },
      "source": [
        "model = Sequential()\n",
        "model.add(layers.Embedding(len(tokenizer.word_index), 128))\n",
        "model.add(layers.Bidirectional(layers.SimpleRNN(686, return_sequences = True, dropout = 0.2)))\n",
        "model.add(layers.Bidirectional(layers.SimpleRNN(343, return_sequences = True, dropout = 0.2)))\n",
        "model.add(layers.Bidirectional(layers.SimpleRNN(49, return_sequences = True, dropout = 0.2)))\n",
        "model.add(layers.Bidirectional(layers.SimpleRNN(7, dropout = 0.2)))\n",
        "model.add(layers.Dense(1, activation = 'sigmoid'))\n",
        "\n",
        "model.compile(loss = 'binary_crossentropy', optimizer = 'adam', metrics = ['accuracy'])\n",
        "\n",
        "model.summary()"
      ],
      "execution_count": 12,
      "outputs": [
        {
          "output_type": "stream",
          "name": "stdout",
          "text": [
            "Model: \"sequential\"\n",
            "_________________________________________________________________\n",
            "Layer (type)                 Output Shape              Param #   \n",
            "=================================================================\n",
            "embedding (Embedding)        (None, None, 128)         2072576   \n",
            "_________________________________________________________________\n",
            "bidirectional (Bidirectional (None, None, 1372)        1118180   \n",
            "_________________________________________________________________\n",
            "bidirectional_1 (Bidirection (None, None, 686)         1177176   \n",
            "_________________________________________________________________\n",
            "bidirectional_2 (Bidirection (None, None, 98)          72128     \n",
            "_________________________________________________________________\n",
            "bidirectional_3 (Bidirection (None, 14)                1484      \n",
            "_________________________________________________________________\n",
            "dense (Dense)                (None, 1)                 15        \n",
            "=================================================================\n",
            "Total params: 4,441,559\n",
            "Trainable params: 4,441,559\n",
            "Non-trainable params: 0\n",
            "_________________________________________________________________\n"
          ]
        }
      ]
    },
    {
      "cell_type": "code",
      "metadata": {
        "id": "esXL3fJr_2_V",
        "colab": {
          "base_uri": "https://localhost:8080/",
          "height": 1000
        },
        "outputId": "f5e1acb4-e40c-468d-eb88-d3bd109d146d"
      },
      "source": [
        "history = model.fit(Train_seq, Train_Y, epochs = EPOCH, validation_data = (Val_seq, Validation_Y), verbose = 1)\n",
        "\n",
        "def plot_graphs(history, string):\n",
        "  plt.plot(history.history[string])\n",
        "  plt.plot(history.history['val_'+string])\n",
        "  plt.xlabel(\"Epochs\")\n",
        "  plt.ylabel(string)\n",
        "  plt.legend([string, 'val_'+string])\n",
        "  plt.show()\n",
        "\n",
        "plot_graphs(history, 'accuracy')\n",
        "plot_graphs(history, 'loss')\n",
        "\n",
        "print('\\nEpoch No.  Train Accuracy  Train Loss     Val Accuracy    Val Loss')\n",
        "for i in range(EPOCH):\n",
        "  print('{:8d} {:10f} \\t {:10f} \\t {:10f} \\t {:10f}'.format(i + 1, history.history['accuracy'][i], history.history['loss'][i], history.history['val_accuracy'][i], history.history['val_loss'][i]))"
      ],
      "execution_count": 13,
      "outputs": [
        {
          "output_type": "stream",
          "name": "stdout",
          "text": [
            "Epoch 1/10\n",
            "194/194 [==============================] - 330s 2s/step - loss: 0.5648 - accuracy: 0.7553 - val_loss: 0.5368 - val_accuracy: 0.7735\n",
            "Epoch 2/10\n",
            "194/194 [==============================] - 323s 2s/step - loss: 0.5474 - accuracy: 0.7640 - val_loss: 0.6380 - val_accuracy: 0.7721\n",
            "Epoch 3/10\n",
            "194/194 [==============================] - 323s 2s/step - loss: 0.5373 - accuracy: 0.7729 - val_loss: 0.6536 - val_accuracy: 0.7672\n",
            "Epoch 4/10\n",
            "194/194 [==============================] - 326s 2s/step - loss: 0.5391 - accuracy: 0.7729 - val_loss: 0.7036 - val_accuracy: 0.2211\n",
            "Epoch 5/10\n",
            "194/194 [==============================] - 321s 2s/step - loss: 0.5373 - accuracy: 0.7729 - val_loss: 0.8057 - val_accuracy: 0.2211\n",
            "Epoch 6/10\n",
            "194/194 [==============================] - 327s 2s/step - loss: 0.5300 - accuracy: 0.7729 - val_loss: 0.9177 - val_accuracy: 0.2672\n",
            "Epoch 7/10\n",
            "194/194 [==============================] - 322s 2s/step - loss: 0.5050 - accuracy: 0.7729 - val_loss: 1.0544 - val_accuracy: 0.3758\n",
            "Epoch 8/10\n",
            "194/194 [==============================] - 319s 2s/step - loss: 0.4601 - accuracy: 0.7730 - val_loss: 1.0116 - val_accuracy: 0.4510\n",
            "Epoch 9/10\n",
            "194/194 [==============================] - 323s 2s/step - loss: 0.3488 - accuracy: 0.8472 - val_loss: 0.5030 - val_accuracy: 0.7949\n",
            "Epoch 10/10\n",
            "194/194 [==============================] - 322s 2s/step - loss: 0.2871 - accuracy: 0.9018 - val_loss: 0.4083 - val_accuracy: 0.8434\n"
          ]
        },
        {
          "output_type": "display_data",
          "data": {
            "image/png": "[encoded data removed]",
            "text/plain": [
              "<Figure size 432x288 with 1 Axes>"
            ]
          },
          "metadata": {
            "needs_background": "light"
          }
        },
        {
          "output_type": "display_data",
          "data": {
            "image/png": "[encoded data removed]",
            "text/plain": [
              "<Figure size 432x288 with 1 Axes>"
            ]
          },
          "metadata": {
            "needs_background": "light"
          }
        },
        {
          "output_type": "stream",
          "name": "stdout",
          "text": [
            "\n",
            "Epoch No.  Train Accuracy  Train Loss     Val Accuracy    Val Loss\n",
            "       1   0.755250 \t   0.564786 \t   0.773521 \t   0.536752\n",
            "       2   0.763974 \t   0.547449 \t   0.772066 \t   0.638022\n",
            "       3   0.772859 \t   0.537277 \t   0.767216 \t   0.653625\n",
            "       4   0.772859 \t   0.539106 \t   0.221145 \t   0.703556\n",
            "       5   0.772859 \t   0.537338 \t   0.221145 \t   0.805681\n",
            "       6   0.772859 \t   0.530030 \t   0.267216 \t   0.917694\n",
            "       7   0.772859 \t   0.505031 \t   0.375849 \t   1.054363\n",
            "       8   0.773021 \t   0.460087 \t   0.451018 \t   1.011558\n",
            "       9   0.847173 \t   0.348811 \t   0.794859 \t   0.503011\n",
            "      10   0.901777 \t   0.287144 \t   0.843356 \t   0.408324\n"
          ]
        }
      ]
    },
    {
      "cell_type": "markdown",
      "metadata": {
        "id": "FQQ3I1YCbTl6"
      },
      "source": [
        "# **Performance Visualization**"
      ]
    },
    {
      "cell_type": "markdown",
      "metadata": {
        "id": "n8_EHbHDbzDS"
      },
      "source": [
        "**For Training Data**"
      ]
    },
    {
      "cell_type": "code",
      "metadata": {
        "colab": {
          "base_uri": "https://localhost:8080/",
          "height": 403
        },
        "id": "3AmNnBVtbY9l",
        "outputId": "26531f39-302a-4393-d3f2-6a2043e3ab6a"
      },
      "source": [
        "y_pred = model.predict(Train_seq)\n",
        "\n",
        "y_pred = np.where(y_pred > 0.5, 1, 0)\n",
        "y_pred = np.reshape(y_pred, (y_pred.shape[0]))\n",
        "\n",
        "loss, accuracy = model.evaluate(Train_seq, Train_Y, verbose = 1)\n",
        "print('Train Loss:', loss)\n",
        "print('Train Accuracy:', accuracy, '(Model Metric)')\n",
        "print('Train Accuracy:', accuracy_score(Train_Y, y_pred), '(sklearn Metric)')\n",
        "print('Train Precision:', precision_score(Train_Y, y_pred))\n",
        "print('Train Recall:', recall_score(Train_Y, y_pred))\n",
        "print('Train F1-score:', f1_score(Train_Y, y_pred))\n",
        "\n",
        "sns.heatmap(confusion_matrix(Train_Y, y_pred), annot = True, fmt = 'g')"
      ],
      "execution_count": 14,
      "outputs": [
        {
          "output_type": "stream",
          "name": "stdout",
          "text": [
            "194/194 [==============================] - 69s 351ms/step - loss: 0.2423 - accuracy: 0.9186\n",
            "Train Loss: 0.2423071712255478\n",
            "Train Accuracy: 0.9185783267021179 (Model Metric)\n",
            "Train Accuracy: 0.918578352180937 (sklearn Metric)\n",
            "Train Precision: 0.8253968253968254\n",
            "Train Recall: 0.813655761024182\n",
            "Train F1-score: 0.8194842406876791\n"
          ]
        },
        {
          "output_type": "execute_result",
          "data": {
            "text/plain": [
              "<matplotlib.axes._subplots.AxesSubplot at 0x7fb37e8c1fd0>"
            ]
          },
          "metadata": {},
          "execution_count": 14
        },
        {
          "output_type": "display_data",
          "data": {
            "image/png": "[encoded data removed]",
            "text/plain": [
              "<Figure size 432x288 with 2 Axes>"
            ]
          },
          "metadata": {
            "needs_background": "light"
          }
        }
      ]
    },
    {
      "cell_type": "markdown",
      "metadata": {
        "id": "nmuy_HsMb1D4"
      },
      "source": [
        "**For Validation Data**"
      ]
    },
    {
      "cell_type": "code",
      "metadata": {
        "id": "x7pyBC1Pb4XL",
        "colab": {
          "base_uri": "https://localhost:8080/",
          "height": 401
        },
        "outputId": "0b2c6792-aba4-4b3e-cec6-2811d3938ea2"
      },
      "source": [
        "y_pred = model.predict(Val_seq)\n",
        "\n",
        "y_pred = np.where(y_pred > 0.5, 1, 0)\n",
        "y_pred = np.reshape(y_pred, (y_pred.shape[0]))\n",
        "\n",
        "loss, accuracy = model.evaluate(Val_seq, Validation_Y, verbose = 1)\n",
        "print('Validation Loss:', loss)\n",
        "print('Validation Accuracy:', accuracy, '(Model Metric)')\n",
        "print('Validation Accuracy:', accuracy_score(Validation_Y, y_pred), '(sklearn Metric)')\n",
        "print('Validation Precision:', precision_score(Validation_Y, y_pred))\n",
        "print('Validation Recall:', recall_score(Validation_Y, y_pred))\n",
        "print('Validation F1-score:', f1_score(Validation_Y, y_pred))\n",
        "\n",
        "sns.heatmap(confusion_matrix(Validation_Y, y_pred), annot = True, fmt = 'g')"
      ],
      "execution_count": 15,
      "outputs": [
        {
          "output_type": "stream",
          "name": "stdout",
          "text": [
            "65/65 [==============================] - 19s 290ms/step - loss: 0.4083 - accuracy: 0.8434\n",
            "Validation Loss: 0.4083240330219269\n",
            "Validation Accuracy: 0.8433559536933899 (Model Metric)\n",
            "Validation Accuracy: 0.8433559650824443 (sklearn Metric)\n",
            "Validation Precision: 0.6411889596602972\n",
            "Validation Recall: 0.6622807017543859\n",
            "Validation F1-score: 0.651564185544768\n"
          ]
        },
        {
          "output_type": "execute_result",
          "data": {
            "text/plain": [
              "<matplotlib.axes._subplots.AxesSubplot at 0x7fb380332f90>"
            ]
          },
          "metadata": {},
          "execution_count": 15
        },
        {
          "output_type": "display_data",
          "data": {
            "image/png": "[encoded data removed]",
            "text/plain": [
              "<Figure size 432x288 with 2 Axes>"
            ]
          },
          "metadata": {
            "needs_background": "light"
          }
        }
      ]
    },
    {
      "cell_type": "markdown",
      "metadata": {
        "id": "54UlDnoTcN7W"
      },
      "source": [
        "**For Testing Data**"
      ]
    },
    {
      "cell_type": "code",
      "metadata": {
        "id": "HZOJAqZVbZIs",
        "colab": {
          "base_uri": "https://localhost:8080/",
          "height": 401
        },
        "outputId": "ab2f363d-414b-4048-9188-a32fa3861507"
      },
      "source": [
        "y_pred = model.predict(Test_seq)\n",
        "\n",
        "y_pred = np.where(y_pred > 0.5, 1, 0)\n",
        "y_pred = np.reshape(y_pred, (y_pred.shape[0]))\n",
        "\n",
        "loss, accuracy = model.evaluate(Test_seq, Test_Y, verbose = 1)\n",
        "print('Test Loss:', loss)\n",
        "print('Test Accuracy:', accuracy, '(Model Metric)')\n",
        "print('Test Accuracy:', accuracy_score(Test_Y, y_pred), '(sklearn Metric)')\n",
        "print('Test Precision:', precision_score(Test_Y, y_pred))\n",
        "print('Test Recall:', recall_score(Test_Y, y_pred))\n",
        "print('Test F1-score:', f1_score(Test_Y, y_pred))\n",
        "\n",
        "sns.heatmap(confusion_matrix(Test_Y, y_pred), annot = True, fmt = 'g')"
      ],
      "execution_count": 16,
      "outputs": [
        {
          "output_type": "stream",
          "name": "stdout",
          "text": [
            "65/65 [==============================] - 18s 268ms/step - loss: 0.5113 - accuracy: 0.8138\n",
            "Test Loss: 0.5113445520401001\n",
            "Test Accuracy: 0.8137730360031128 (Model Metric)\n",
            "Test Accuracy: 0.8137730358874878 (sklearn Metric)\n",
            "Test Precision: 0.58994708994709\n",
            "Test Recall: 0.49336283185840707\n",
            "Test F1-score: 0.5373493975903615\n"
          ]
        },
        {
          "output_type": "execute_result",
          "data": {
            "text/plain": [
              "<matplotlib.axes._subplots.AxesSubplot at 0x7fb38061b510>"
            ]
          },
          "metadata": {},
          "execution_count": 16
        },
        {
          "output_type": "display_data",
          "data": {
            "image/png": "[encoded data removed]",
            "text/plain": [
              "<Figure size 432x288 with 2 Axes>"
            ]
          },
          "metadata": {
            "needs_background": "light"
          }
        }
      ]
    },
    {
      "cell_type": "markdown",
      "metadata": {
        "id": "QnmotMRfpxJI"
      },
      "source": [
        "# **Result visualization in bar chart**"
      ]
    },
    {
      "cell_type": "markdown",
      "metadata": {
        "id": "LYZYOBBtpKRO"
      },
      "source": [
        "![chart.png](data:image/png;base64,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)"
      ]
    }
  ]
}